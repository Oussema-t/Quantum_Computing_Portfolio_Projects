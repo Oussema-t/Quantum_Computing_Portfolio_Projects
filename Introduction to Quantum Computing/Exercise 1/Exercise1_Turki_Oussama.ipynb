{
  "nbformat": 4,
  "nbformat_minor": 0,
  "metadata": {
    "colab": {
      "provenance": []
    },
    "kernelspec": {
      "name": "python3",
      "display_name": "Python 3"
    },
    "language_info": {
      "name": "python"
    }
  },
  "cells": [
    {
      "cell_type": "markdown",
      "source": [
        "# 1.1 Show that the following set of vectors is a basis of C³:\n",
        "\n",
        "|v₁⟩ = (1, 1, 1)ᵗ\n",
        "|v₂⟩ = (1, 0, 1)ᵗ\n",
        "|v₃⟩ = (1, -1, -1)ᵗ\n",
        "\n",
        "\n"
      ],
      "metadata": {
        "id": "bsUVZY6ooCIF"
      }
    },
    {
      "cell_type": "code",
      "execution_count": 3,
      "metadata": {
        "colab": {
          "base_uri": "https://localhost:8080/"
        },
        "id": "lu8aTTzOnYEp",
        "outputId": "3213a35b-9ea2-4092-e92d-532abc764efa"
      },
      "outputs": [
        {
          "output_type": "execute_result",
          "data": {
            "text/plain": [
              "2.0"
            ]
          },
          "metadata": {},
          "execution_count": 3
        }
      ],
      "source": [
        "import numpy as np\n",
        "\n",
        "# Define the vectors\n",
        "v1 = np.array([1, 1, 1])\n",
        "v2 = np.array([1, 0, 1])\n",
        "v3 = np.array([1, -1, -1])\n",
        "\n",
        "# Stack the vectors into a matrix\n",
        "matrix = np.column_stack([v1, v2, v3])\n",
        "\n",
        "# Calculate the determinant of the matrix\n",
        "determinant = np.linalg.det(matrix)\n",
        "\n",
        "# Check if the determinant is non-zero (which indicates the vectors are linearly independent)\n",
        "determinant\n"
      ]
    },
    {
      "cell_type": "markdown",
      "source": [
        "## 1.2 Given the following vectors:\n",
        "\n",
        "|x⟩ = (1, i, 2 + i)ᵗ\n",
        "|y⟩ = (2 - i, 1, 2 + i)ᵗ\n",
        "\n",
        "Find:\n",
        "1. ‖|x⟩‖\n",
        "2. ⟨x|y⟩\n",
        "3. ⟨y|x⟩\n"
      ],
      "metadata": {
        "id": "V7fp5k7UqrNb"
      }
    },
    {
      "cell_type": "code",
      "source": [
        "# Define the vectors x and y\n",
        "x = np.array([1, 1j, 2 + 1j])\n",
        "y = np.array([2 - 1j, 1, 2 + 1j])\n",
        "\n",
        "# Norm of x\n",
        "norm_x = np.linalg.norm(x)\n",
        "\n",
        "# Inner product ⟨x|y⟩\n",
        "inner_product_xy = np.vdot(x, y)\n",
        "\n",
        "# Inner product ⟨y|x⟩\n",
        "inner_product_yx = np.vdot(y, x)\n",
        "\n",
        "norm_x, inner_product_xy, inner_product_yx\n"
      ],
      "metadata": {
        "colab": {
          "base_uri": "https://localhost:8080/"
        },
        "id": "QcYhyrj4q4uB",
        "outputId": "ee51ebe0-c20d-4759-a14b-c85cc80bf7ea"
      },
      "execution_count": 4,
      "outputs": [
        {
          "output_type": "execute_result",
          "data": {
            "text/plain": [
              "(2.6457513110645907, (7-2j), (7+2j))"
            ]
          },
          "metadata": {},
          "execution_count": 4
        }
      ]
    },
    {
      "cell_type": "markdown",
      "source": [
        "## 1.3 Prove that:\n",
        "\n",
        "⟨x|y⟩ = ⟨y|x⟩*\n",
        "\n",
        "Note: The asterisk (*) denotes complex conjugate."
      ],
      "metadata": {
        "id": "4S94CNdcrVNs"
      }
    },
    {
      "cell_type": "code",
      "source": [
        "# Verify that ⟨x|y⟩ = ⟨y|x⟩* in Python\n",
        "\n",
        "# Check if the complex conjugate of ⟨y|x⟩ is equal to ⟨x|y⟩\n",
        "verification = np.isclose(inner_product_xy, np.conj(inner_product_yx))\n",
        "\n",
        "verification\n"
      ],
      "metadata": {
        "colab": {
          "base_uri": "https://localhost:8080/"
        },
        "id": "SOpnKyV3rg3J",
        "outputId": "b7d7549b-a846-49a2-e9d2-eeb4b253433b"
      },
      "execution_count": 5,
      "outputs": [
        {
          "output_type": "execute_result",
          "data": {
            "text/plain": [
              "True"
            ]
          },
          "metadata": {},
          "execution_count": 5
        }
      ]
    },
    {
      "cell_type": "markdown",
      "source": [],
      "metadata": {
        "id": "aRr5FvQaoA9N"
      }
    },
    {
      "cell_type": "markdown",
      "source": [
        "## 1.4 Given the following vectors:\n",
        "\n",
        "|e₁⟩ = (1/√2, 1/√2)ᵗ\n",
        "|e₂⟩ = (1/√2, -1/√2)ᵗ\n",
        "\n",
        "Let |v⟩ = (3, 2)ᵗ = ∑₂ₖ₌₁ cₖ|eₖ⟩\n",
        "\n",
        "Find c₁ and c₂."
      ],
      "metadata": {
        "id": "btjpqGgAsTM4"
      }
    },
    {
      "cell_type": "code",
      "source": [
        "# Define the vectors e1, e2, and v\n",
        "e1 = np.array([1, 1]) / np.sqrt(2)\n",
        "e2 = np.array([1, -1]) / np.sqrt(2)\n",
        "v = np.array([3, 2])\n",
        "\n",
        "# Calculate the coefficients c1 and c2 using the inner product\n",
        "c1 = np.dot(e1, v)\n",
        "c2 = np.dot(e2, v)\n",
        "\n",
        "print(c1, c2)\n",
        "c1*e1 + c2*e2"
      ],
      "metadata": {
        "colab": {
          "base_uri": "https://localhost:8080/"
        },
        "id": "hzXxeA_PsbLN",
        "outputId": "414a1dbd-381c-47b2-ddd0-8db1bd4468d0"
      },
      "execution_count": 6,
      "outputs": [
        {
          "output_type": "stream",
          "name": "stdout",
          "text": [
            "3.5355339059327373 0.7071067811865475\n"
          ]
        },
        {
          "output_type": "execute_result",
          "data": {
            "text/plain": [
              "array([3., 2.])"
            ]
          },
          "metadata": {},
          "execution_count": 6
        }
      ]
    },
    {
      "cell_type": "markdown",
      "source": [
        "## 1.5 Gram-Schmidt Orthonormalization and Coefficient Calculation\n",
        "\n",
        "1. Use the Gram-Schmidt orthonormalization process to find an orthonormal basis {|eᵢ⟩} from the following set of vectors:\n",
        "\n",
        "   |v₁⟩ = (-1, 2, 2)ᵗ\n",
        "   |v₂⟩ = (2, -1, 2)ᵗ\n",
        "   |v₃⟩ = (3, 0, -3)ᵗ\n",
        "\n",
        "2. Let |u⟩ = (1, -2, 7)ᵗ = ∑ₖ cₖ|eₖ⟩\n",
        "\n",
        "   Find the coefficients cₖ."
      ],
      "metadata": {
        "id": "UaX_FC_DtCPa"
      }
    },
    {
      "cell_type": "code",
      "source": [
        "def gram_schmidt(vectors):\n",
        "    basis = []\n",
        "    for v in vectors:\n",
        "        w = v - np.sum([np.dot(v, b) * b for b in basis], axis=0)\n",
        "        if not np.allclose(w, 0):\n",
        "            basis.append(w / np.linalg.norm(w))\n",
        "    return np.array(basis)\n",
        "\n",
        "# Define the initial vectors\n",
        "v1 = np.array([-1, 2, 2])\n",
        "v2 = np.array([2, -1, 2])\n",
        "v3 = np.array([3, 0, -3])\n",
        "\n",
        "vectors = [v1, v2, v3]\n",
        "\n",
        "# Apply Gram-Schmidt orthonormalization\n",
        "orthonormal_basis = gram_schmidt(vectors)\n",
        "\n",
        "print(\"Orthonormal Basis:\")\n",
        "for i, e in enumerate(orthonormal_basis, 1):\n",
        "    print(f\"|e{i}⟩ =\", e)\n",
        "\n",
        "# Define the vector u\n",
        "u = np.array([1, -2, 7])\n",
        "\n",
        "# Calculate coefficients\n",
        "coefficients = np.dot(orthonormal_basis, u)\n",
        "\n",
        "print(\"\\nCoefficients:\")\n",
        "for i, c in enumerate(coefficients, 1):\n",
        "    print(f\"c{i} =\", c)\n",
        "\n",
        "# Verify the result\n",
        "reconstructed_u = np.dot(coefficients, orthonormal_basis)\n",
        "print(\"\\nReconstructed u:\", reconstructed_u)\n",
        "print(\"Original u:     \", u)\n",
        "print(\"Are they equal?\", np.allclose(reconstructed_u, u))"
      ],
      "metadata": {
        "id": "wCl6AszotUSL",
        "colab": {
          "base_uri": "https://localhost:8080/"
        },
        "outputId": "a8ff7497-d405-4156-97fa-6f43c7dce0eb"
      },
      "execution_count": 7,
      "outputs": [
        {
          "output_type": "stream",
          "name": "stdout",
          "text": [
            "Orthonormal Basis:\n",
            "|e1⟩ = [-0.33333333  0.66666667  0.66666667]\n",
            "|e2⟩ = [ 0.66666667 -0.33333333  0.66666667]\n",
            "|e3⟩ = [ 0.66666667  0.66666667 -0.33333333]\n",
            "\n",
            "Coefficients:\n",
            "c1 = 3.0\n",
            "c2 = 6.0\n",
            "c3 = -3.0\n",
            "\n",
            "Reconstructed u: [ 1. -2.  7.]\n",
            "Original u:      [ 1 -2  7]\n",
            "Are they equal? True\n"
          ]
        }
      ]
    },
    {
      "cell_type": "markdown",
      "source": [
        "## 1.6 Orthonormal Basis for a Two-Dimensional Subspace\n",
        "\n",
        "Given the following vectors:\n",
        "\n",
        "|v₁⟩ = (1, i, 1)ᵗ\n",
        "|v₂⟩ = (3, 0, -3)ᵗ\n",
        "\n",
        "Find an orthonormal basis for the two-dimensional subspace spanned by {|v₁⟩, |v₂⟩}.\n",
        "\n",
        "Note: i represents the imaginary unit."
      ],
      "metadata": {
        "id": "QEaElJzYelm1"
      }
    },
    {
      "cell_type": "code",
      "source": [
        "# Define the vectors\n",
        "v1 = np.array([1, 1j, 1], dtype=complex)\n",
        "v2 = np.array([3, 0, -3], dtype=complex)\n",
        "\n",
        "vectors = [v1, v2]\n",
        "\n",
        "# Apply Gram-Schmidt orthonormalization\n",
        "orthonormal_basis = gram_schmidt(vectors)\n",
        "\n",
        "print(\"Orthonormal Basis:\")\n",
        "for i, e in enumerate(orthonormal_basis, 1):\n",
        "    print(f\"|e{i}⟩ =\", e)\n",
        "\n",
        "# Verify orthonormality\n",
        "print(\"\\nVerifying orthonormality:\")\n",
        "for i, ei in enumerate(orthonormal_basis):\n",
        "    for j, ej in enumerate(orthonormal_basis):\n",
        "        inner_product = np.vdot(ei, ej)\n",
        "        expected = 1 if i == j else 0\n",
        "        print(f\"⟨e{i+1}|e{j+1}⟩ = {inner_product:.4f} (Expected: {expected})\")\n",
        "\n",
        "# Verify that the basis spans the same subspace\n",
        "print(\"\\nVerifying span:\")\n",
        "for i, v in enumerate([v1, v2], 1):\n",
        "    reconstructed = sum(np.vdot(v, e) * e for e in orthonormal_basis)\n",
        "    print(f\"|v{i}⟩ original:     \", v)\n",
        "    print(f\"|v{i}⟩ reconstructed:\", reconstructed)\n",
        "    print(f\"Are they equal? {np.allclose(v, reconstructed)}\\n\")"
      ],
      "metadata": {
        "colab": {
          "base_uri": "https://localhost:8080/"
        },
        "id": "JHReYTekekz6",
        "outputId": "22010e71-0625-4429-ffeb-d856881b0dd7"
      },
      "execution_count": 8,
      "outputs": [
        {
          "output_type": "stream",
          "name": "stdout",
          "text": [
            "Orthonormal Basis:\n",
            "|e1⟩ = [0.57735027+0.j         0.        +0.57735027j 0.57735027+0.j        ]\n",
            "|e2⟩ = [ 0.70710678+0.j  0.        +0.j -0.70710678+0.j]\n",
            "\n",
            "Verifying orthonormality:\n",
            "⟨e1|e1⟩ = 1.0000+0.0000j (Expected: 1)\n",
            "⟨e1|e2⟩ = 0.0000+0.0000j (Expected: 0)\n",
            "⟨e2|e1⟩ = 0.0000+0.0000j (Expected: 0)\n",
            "⟨e2|e2⟩ = 1.0000+0.0000j (Expected: 1)\n",
            "\n",
            "Verifying span:\n",
            "|v1⟩ original:      [1.+0.j 0.+1.j 1.+0.j]\n",
            "|v1⟩ reconstructed: [1.+0.j 0.+1.j 1.+0.j]\n",
            "Are they equal? True\n",
            "\n",
            "|v2⟩ original:      [ 3.+0.j  0.+0.j -3.+0.j]\n",
            "|v2⟩ reconstructed: [ 3.+0.j  0.+0.j -3.+0.j]\n",
            "Are they equal? True\n",
            "\n"
          ]
        }
      ]
    },
    {
      "cell_type": "markdown",
      "source": [
        "## 1.8 Eigenvalue Problem\n",
        "\n",
        "Let A be the following matrix:\n",
        "\n",
        "A = [\n",
        "    [1/√2,   0  ],\n",
        "    [1+i,  1-i  ]\n",
        "]\n",
        "\n",
        "a) Find the eigenvalues and the corresponding normalized eigenvectors."
      ],
      "metadata": {
        "id": "MPrX_gMqhv5d"
      }
    },
    {
      "cell_type": "markdown",
      "source": [],
      "metadata": {
        "id": "qpKdr8QXhmoc"
      }
    },
    {
      "cell_type": "code",
      "source": [
        "\n",
        "# Define the matrix A\n",
        "A = np.array([\n",
        "    [1/np.sqrt(2), 0],\n",
        "    [1+1j, 1-1j]\n",
        "], dtype=complex)\n",
        "\n",
        "print(\"Matrix A:\")\n",
        "print(A)\n",
        "\n",
        "# Compute eigenvalues and eigenvectors\n",
        "eigenvalues, eigenvectors = np.linalg.eig(A)\n",
        "\n",
        "print(\"\\nEigenvalues:\")\n",
        "for i, eigenvalue in enumerate(eigenvalues, 1):\n",
        "    print(f\"λ{i} = {eigenvalue}\")\n",
        "\n",
        "print(\"\\nNormalized Eigenvectors:\")\n",
        "for i, eigenvector in enumerate(eigenvectors.T, 1):\n",
        "    # Normalize the eigenvector\n",
        "    normalized_eigenvector = eigenvector / np.linalg.norm(eigenvector)\n",
        "    print(f\"|v{i}⟩ = {normalized_eigenvector}\")\n",
        "\n",
        "# Verify the results\n",
        "print(\"\\nVerification:\")\n",
        "for i, (eigenvalue, eigenvector) in enumerate(zip(eigenvalues, eigenvectors.T), 1):\n",
        "    left_side = np.dot(A, eigenvector)\n",
        "    right_side = eigenvalue * eigenvector\n",
        "    print(f\"For eigenpair {i}:\")\n",
        "    print(f\"A|v{i}⟩ = {left_side}\")\n",
        "    print(f\"λ{i}|v{i}⟩ = {right_side}\")\n",
        "    print(f\"Are they equal? {np.allclose(left_side, right_side)}\\n\")"
      ],
      "metadata": {
        "colab": {
          "base_uri": "https://localhost:8080/"
        },
        "id": "LN6_AfBkVgiK",
        "outputId": "7c369e90-cd8a-43ca-bd70-bfa952edeb41"
      },
      "execution_count": 9,
      "outputs": [
        {
          "output_type": "stream",
          "name": "stdout",
          "text": [
            "Matrix A:\n",
            "[[0.70710678+0.j 0.        +0.j]\n",
            " [1.        +1.j 1.        -1.j]]\n",
            "\n",
            "Eigenvalues:\n",
            "λ1 = (1-1j)\n",
            "λ2 = (0.7071067811865475+0j)\n",
            "\n",
            "Normalized Eigenvectors:\n",
            "|v1⟩ = [0.+0.j 1.+0.j]\n",
            "|v2⟩ = [0.28463419+0.52043288j 0.80506707+0.j        ]\n",
            "\n",
            "Verification:\n",
            "For eigenpair 1:\n",
            "A|v1⟩ = [0.+0.j 1.-1.j]\n",
            "λ1|v1⟩ = [0.+0.j 1.-1.j]\n",
            "Are they equal? True\n",
            "\n",
            "For eigenpair 2:\n",
            "A|v2⟩ = [0.20126677+0.36800162j 0.56926839+0.j        ]\n",
            "λ2|v2⟩ = [0.20126677+0.36800162j 0.56926839+0.j        ]\n",
            "Are they equal? True\n",
            "\n"
          ]
        }
      ]
    },
    {
      "cell_type": "markdown",
      "source": [
        "b) Show that the eigenvectors are mutually orthogonal and that they satisfy the completeness\n",
        "relation"
      ],
      "metadata": {
        "id": "hQGmSB7DitKS"
      }
    },
    {
      "cell_type": "code",
      "source": [
        "# Compute eigenvalues and eigenvectors\n",
        "eigenvalues, eigenvectors = np.linalg.eig(A)\n",
        "\n",
        "print(\"\\nEigenvalues:\")\n",
        "for i, eigenvalue in enumerate(eigenvalues, 1):\n",
        "    print(f\"λ{i} = {eigenvalue}\")\n",
        "\n",
        "print(\"\\nNormalized Eigenvectors:\")\n",
        "for i, eigenvector in enumerate(eigenvectors.T, 1):\n",
        "    print(f\"|v{i}⟩ = {eigenvector}\")\n",
        "\n",
        "# Check orthogonality\n",
        "print(\"\\nChecking orthogonality:\")\n",
        "for i, vi in enumerate(eigenvectors.T):\n",
        "    for j, vj in enumerate(eigenvectors.T):\n",
        "        inner_product = np.vdot(vi, vj)\n",
        "        expected = 1 if i == j else 0\n",
        "        print(f\"⟨v{i+1}|v{j+1}⟩ = {inner_product:.4f} (Expected: {expected})\")\n",
        "\n",
        "# Check completeness relation\n",
        "print(\"\\nChecking completeness relation:\")\n",
        "completeness_sum = np.zeros((2, 2), dtype=complex)\n",
        "for v in eigenvectors.T:\n",
        "    outer_product = np.outer(v, np.conj(v))\n",
        "    completeness_sum += outer_product\n",
        "\n",
        "print(\"Sum of |v_i⟩⟨v_i|:\")\n",
        "print(completeness_sum)\n",
        "\n",
        "identity = np.eye(2)\n",
        "print(\"\\nIdentity matrix:\")\n",
        "print(identity)\n",
        "\n",
        "print(f\"\\nAre they equal? {np.allclose(completeness_sum, identity)}\")"
      ],
      "metadata": {
        "colab": {
          "base_uri": "https://localhost:8080/"
        },
        "id": "_MwH_nabivXa",
        "outputId": "25c5f83e-34ab-440c-8df5-39d9cafd435a"
      },
      "execution_count": 10,
      "outputs": [
        {
          "output_type": "stream",
          "name": "stdout",
          "text": [
            "\n",
            "Eigenvalues:\n",
            "λ1 = (1-1j)\n",
            "λ2 = (0.7071067811865475+0j)\n",
            "\n",
            "Normalized Eigenvectors:\n",
            "|v1⟩ = [0.+0.j 1.+0.j]\n",
            "|v2⟩ = [0.28463419+0.52043288j 0.80506707+0.j        ]\n",
            "\n",
            "Checking orthogonality:\n",
            "⟨v1|v1⟩ = 1.0000+0.0000j (Expected: 1)\n",
            "⟨v1|v2⟩ = 0.8051+0.0000j (Expected: 0)\n",
            "⟨v2|v1⟩ = 0.8051+0.0000j (Expected: 0)\n",
            "⟨v2|v2⟩ = 1.0000+0.0000j (Expected: 1)\n",
            "\n",
            "Checking completeness relation:\n",
            "Sum of |v_i⟩⟨v_i|:\n",
            "[[0.35186701+8.75660627e-18j 0.22914962+4.18983376e-01j]\n",
            " [0.22914962-4.18983376e-01j 1.64813299+0.00000000e+00j]]\n",
            "\n",
            "Identity matrix:\n",
            "[[1. 0.]\n",
            " [0. 1.]]\n",
            "\n",
            "Are they equal? False\n"
          ]
        }
      ]
    },
    {
      "cell_type": "markdown",
      "source": [
        "c) Find a unitary matrix which diagonalizes A.\n"
      ],
      "metadata": {
        "id": "IpMFdZigptdC"
      }
    },
    {
      "cell_type": "code",
      "source": [
        "# Define the matrix A\n",
        "A = (1/np.sqrt(2)) * np.array([[0, 1 + 1j], [1 - 1j, 0]])\n",
        "\n",
        "print(\"Original matrix A:\")\n",
        "print(A)\n",
        "\n",
        "# Compute eigenvalues and eigenvectors\n",
        "eigenvalues, eigenvectors = np.linalg.eig(A)\n",
        "\n",
        "# The matrix of eigenvectors is our unitary matrix\n",
        "U = eigenvectors\n",
        "\n",
        "print(\"\\nUnitary matrix U that diagonalizes A:\")\n",
        "print(U)\n",
        "\n",
        "# Verify that U is unitary\n",
        "U_dag = np.conj(U.T)\n",
        "I = np.eye(2)\n",
        "print(\"\\nVerifying U is unitary:\")\n",
        "print(\"U†U:\")\n",
        "print(np.matmul(U_dag, U))\n",
        "print(f\"Is U†U equal to the identity matrix? {np.allclose(np.matmul(U_dag, U), I)}\")\n",
        "\n",
        "# Diagonalize A\n",
        "D = np.matmul(U_dag, np.matmul(A, U))\n",
        "\n",
        "print(\"\\nDiagonalized matrix D = U†AU:\")\n",
        "print(D)\n",
        "\n",
        "# Verify diagonalization\n",
        "A_reconstructed = np.matmul(U, np.matmul(D, U_dag))\n",
        "print(\"\\nReconstructed A = UDU†:\")\n",
        "print(A_reconstructed)\n",
        "print(f\"Is the reconstructed A equal to the original A? {np.allclose(A, A_reconstructed)}\")"
      ],
      "metadata": {
        "colab": {
          "base_uri": "https://localhost:8080/"
        },
        "id": "oEi_pfwqqKrN",
        "outputId": "87bb5a04-bbc4-4252-e342-08c01c4b7196"
      },
      "execution_count": 11,
      "outputs": [
        {
          "output_type": "stream",
          "name": "stdout",
          "text": [
            "Original matrix A:\n",
            "[[0.        +0.j         0.70710678+0.70710678j]\n",
            " [0.70710678-0.70710678j 0.        +0.j        ]]\n",
            "\n",
            "Unitary matrix U that diagonalizes A:\n",
            "[[ 0.5       +0.5j -0.5       -0.5j]\n",
            " [ 0.70710678+0.j   0.70710678+0.j ]]\n",
            "\n",
            "Verifying U is unitary:\n",
            "U†U:\n",
            "[[1.00000000e+00+0.00000000e+00j 2.22044605e-16+2.77555756e-17j]\n",
            " [2.22044605e-16-2.77555756e-17j 1.00000000e+00+0.00000000e+00j]]\n",
            "Is U†U equal to the identity matrix? True\n",
            "\n",
            "Diagonalized matrix D = U†AU:\n",
            "[[ 1.00000000e+00+0.00000000e+00j -1.11022302e-16-2.77555756e-17j]\n",
            " [-8.32667268e-17+2.77555756e-17j -1.00000000e+00+0.00000000e+00j]]\n",
            "\n",
            "Reconstructed A = UDU†:\n",
            "[[5.27355937e-16+0.00000000e+00j 7.07106781e-01+7.07106781e-01j]\n",
            " [7.07106781e-01-7.07106781e-01j 4.67705010e-16-1.18416987e-33j]]\n",
            "Is the reconstructed A equal to the original A? True\n"
          ]
        }
      ]
    },
    {
      "cell_type": "markdown",
      "source": [
        "1.9 b) ‡ Let U be unitary. Show that all the eigenvalues are unimodular (|λj | = 1).\n",
        "\n"
      ],
      "metadata": {
        "id": "dk4vJApBBk0Z"
      }
    },
    {
      "cell_type": "code",
      "source": [
        "import numpy as np\n",
        "\n",
        "# Let's define a unitary matrix U (from a previous example)\n",
        "A = (1/np.sqrt(2)) * np.array([[0, 1 + 1j], [1 - 1j, 0]])\n",
        "\n",
        "# Compute the eigenvalues of A\n",
        "eigenvalues, eigenvectors = np.linalg.eig(A)\n",
        "\n",
        "# Check that all eigenvalues are unimodular (i.e., their magnitude is 1)\n",
        "eigenvalue_magnitudes = np.abs(eigenvalues)\n",
        "\n",
        "print(\"Eigenvalues:\", eigenvalues)\n",
        "print(\"Magnitudes of Eigenvalues:\", eigenvalue_magnitudes)\n",
        "\n",
        "# Check if all eigenvalue magnitudes are 1 (unimodular)\n",
        "if np.allclose(eigenvalue_magnitudes, 1):\n",
        "    print(\"All eigenvalues are unimodular (|λ| = 1).\")\n",
        "else:\n",
        "    print(\"Some eigenvalues are not unimodular.\")\n"
      ],
      "metadata": {
        "colab": {
          "base_uri": "https://localhost:8080/"
        },
        "id": "D4VZ9t1cBnCU",
        "outputId": "7f26660e-26ad-46b9-f547-7d25ebabbd8f"
      },
      "execution_count": 12,
      "outputs": [
        {
          "output_type": "stream",
          "name": "stdout",
          "text": [
            "Eigenvalues: [ 1.+5.55111512e-17j -1.-5.55111512e-17j]\n",
            "Magnitudes of Eigenvalues: [1. 1.]\n",
            "All eigenvalues are unimodular (|λ| = 1).\n"
          ]
        }
      ]
    },
    {
      "cell_type": "markdown",
      "source": [
        "\n",
        "## 1.10 Eigenvalue Problem for a Special 3x3 Matrix\n",
        "\n",
        "Let A be the following matrix:\n",
        "\n",
        "A = [\n",
        "    [0, 0, i],\n",
        "    [0, i, 0],\n",
        "    [i, 0, 0]\n",
        "]\n",
        "\n",
        "Where i is the imaginary unit.\n",
        "\n",
        "Find the eigenvalues (without calculation if possible) and the corresponding eigenvectors."
      ],
      "metadata": {
        "id": "ZzXK3gUiB6tZ"
      }
    },
    {
      "cell_type": "code",
      "source": [
        "import numpy as np\n",
        "\n",
        "# Step 1: Define the eigenvalue and eigenvector matrices\n",
        "lambda_1 = -1\n",
        "lambda_2 = 3\n",
        "\n",
        "# Eigenvector matrix P\n",
        "P = np.array([[1/np.sqrt(2), 1/np.sqrt(2)],\n",
        "              [-1j/np.sqrt(2), 1j/np.sqrt(2)]])\n",
        "print (\"Eigenvector matrix P: \", P)\n",
        "# Step 2: Diagonal matrix D with eigenvalues\n",
        "D = np.array([[lambda_1, 0], [0, lambda_2]])\n",
        "print(f\"Diagonal matrix D:  {D}\")\n",
        "\n",
        "# Step 3: Compute the conjugate transpose (P^-1) since P is unitary\n",
        "P_inv = np.conj(P.T)\n",
        "print(\"Conjugate transpose of P \", P_inv)\n",
        "# Step 4: Compute the matrix A\n",
        "A = np.dot(np.dot(P, D), P_inv)\n",
        "\n",
        "# Step 5: Display the result\n",
        "print(\"Matrix A:\")\n",
        "print(A)\n"
      ],
      "metadata": {
        "colab": {
          "base_uri": "https://localhost:8080/"
        },
        "id": "TR8g6B5aB12g",
        "outputId": "1cfceb81-06db-4d0e-b0c5-32f2094e60b6"
      },
      "execution_count": 13,
      "outputs": [
        {
          "output_type": "stream",
          "name": "stdout",
          "text": [
            "Eigenvector matrix P:  [[ 0.70710678+0.j          0.70710678+0.j        ]\n",
            " [-0.        -0.70710678j  0.        +0.70710678j]]\n",
            "Diagonal matrix D:  [[-1  0]\n",
            " [ 0  3]]\n",
            "Conjugate transpose of P  [[ 0.70710678-0.j         -0.        +0.70710678j]\n",
            " [ 0.70710678-0.j          0.        -0.70710678j]]\n",
            "Matrix A:\n",
            "[[1.+0.j 0.-2.j]\n",
            " [0.+2.j 1.+0.j]]\n"
          ]
        }
      ]
    },
    {
      "cell_type": "markdown",
      "source": [
        "## 1.13 Eigenvalue Problem for a 2x2 Matrix\n",
        "\n",
        "Let A be the following matrix:\n",
        "\n",
        "A = [\n",
        "    [2, 1],\n",
        "    [1, 2]\n",
        "]\n",
        "\n",
        "Find the eigenvalues and the corresponding normalized eigenvectors of A."
      ],
      "metadata": {
        "id": "SbUsjkiNKwDF"
      }
    },
    {
      "cell_type": "code",
      "source": [
        "import numpy as np\n",
        "\n",
        "# Define matrix A\n",
        "A = np.array([[2, 1], [1, 2]])\n",
        "\n",
        "# Compute eigenvalues and eigenvectors\n",
        "eigenvalues, eigenvectors = np.linalg.eig(A)\n",
        "# print(\"Eigenvalues:\", eigenvalues)\n",
        "print(\"Eigenvectors:\", eigenvectors)\n",
        "\n",
        "# Normalize eigenvectors\n",
        "normalized_eigenvectors = eigenvectors / np.linalg.norm(eigenvectors, axis=0)\n",
        "\n",
        "# Print results\n",
        "print(\"Eigenvalues:\")\n",
        "print(eigenvalues)\n",
        "print(\"Normalized Eigenvectors:\")\n",
        "print(normalized_eigenvectors)\n",
        "\n"
      ],
      "metadata": {
        "colab": {
          "base_uri": "https://localhost:8080/"
        },
        "id": "Sn-Ft56LKxQp",
        "outputId": "39ba885d-b060-4711-b9de-f848c1b81e64"
      },
      "execution_count": 14,
      "outputs": [
        {
          "output_type": "stream",
          "name": "stdout",
          "text": [
            "Eigenvectors: [[ 0.70710678 -0.70710678]\n",
            " [ 0.70710678  0.70710678]]\n",
            "Eigenvalues:\n",
            "[3. 1.]\n",
            "Normalized Eigenvectors:\n",
            "[[ 0.70710678 -0.70710678]\n",
            " [ 0.70710678  0.70710678]]\n"
          ]
        }
      ]
    },
    {
      "cell_type": "markdown",
      "source": [
        "\n",
        "\n",
        "*   Write down the spectral decomposition of A.\n",
        "\n",
        "\n",
        "\n",
        "\n"
      ],
      "metadata": {
        "id": "tY1CvvryMHj3"
      }
    },
    {
      "cell_type": "code",
      "source": [
        "import numpy as np\n",
        "\n",
        "# Define the matrix A\n",
        "A = np.array([[2, 1], [1, 2]])\n",
        "\n",
        "# Compute eigenvalues and eigenvectors\n",
        "eigenvalues, eigenvectors = np.linalg.eig(A)\n",
        "\n",
        "# Construct diagonal matrix Lambda\n",
        "Lambda = np.diag(eigenvalues)\n",
        "\n",
        "# Construct matrix V of eigenvectors\n",
        "V = eigenvectors\n",
        "\n",
        "# Compute V^-1 (which is the conjugate transpose for orthogonal eigenvectors)\n",
        "V_inv = np.linalg.inv(V)\n",
        "\n",
        "# Compute the spectral decomposition: A = V * Lambda * V_inv\n",
        "A_reconstructed = np.dot(np.dot(V, Lambda), V_inv)\n",
        "\n",
        "# Print results\n",
        "print(\"Matrix A:\")\n",
        "print(A)\n",
        "print(\"Eigenvalues (Lambda):\")\n",
        "print(Lambda)\n",
        "print(\"Eigenvectors (V):\")\n",
        "print(V)\n",
        "print(\"Reconstructed A (Spectral Decomposition):\")\n",
        "print(A_reconstructed)\n"
      ],
      "metadata": {
        "colab": {
          "base_uri": "https://localhost:8080/"
        },
        "id": "H3-F9vOaMIsv",
        "outputId": "2b9cfaf4-81cd-44c8-b4c7-d3b44350b9a2"
      },
      "execution_count": 15,
      "outputs": [
        {
          "output_type": "stream",
          "name": "stdout",
          "text": [
            "Matrix A:\n",
            "[[2 1]\n",
            " [1 2]]\n",
            "Eigenvalues (Lambda):\n",
            "[[3. 0.]\n",
            " [0. 1.]]\n",
            "Eigenvectors (V):\n",
            "[[ 0.70710678 -0.70710678]\n",
            " [ 0.70710678  0.70710678]]\n",
            "Reconstructed A (Spectral Decomposition):\n",
            "[[2. 1.]\n",
            " [1. 2.]]\n"
          ]
        }
      ]
    },
    {
      "cell_type": "markdown",
      "source": [
        "\n",
        "\n",
        "\n",
        "\n",
        "\n",
        "*   Find exp(iA).\n",
        "\n",
        "\n"
      ],
      "metadata": {
        "id": "saTl_Sh9UKfl"
      }
    },
    {
      "cell_type": "code",
      "source": [
        "import numpy as np\n",
        "from scipy.linalg import expm\n",
        "\n",
        "# Define the matrix A\n",
        "A = np.array([[2, 1], [1, 2]])\n",
        "\n",
        "# Define the imaginary unit i\n",
        "i = 1j\n",
        "\n",
        "# Step 1: Compute the matrix exponential exp(iA)\n",
        "exp_iA = expm(i * A)\n",
        "\n",
        "# Print the result\n",
        "print(\"exp(iA):\")\n",
        "print(exp_iA)\n",
        "\n",
        "\n"
      ],
      "metadata": {
        "colab": {
          "base_uri": "https://localhost:8080/"
        },
        "id": "s0gcRCVvNXjw",
        "outputId": "61c64dab-889b-4309-f2a0-ec5411cadd8c"
      },
      "execution_count": 16,
      "outputs": [
        {
          "output_type": "stream",
          "name": "stdout",
          "text": [
            "exp(iA):\n",
            "[[-0.2248451+0.4912955j  -0.7651474-0.35017549j]\n",
            " [-0.7651474-0.35017549j -0.2248451+0.4912955j ]]\n"
          ]
        }
      ]
    },
    {
      "cell_type": "markdown",
      "source": [
        "## 1.14 Eigenvalue Problem for a 3x3 Matrix\n",
        "\n",
        "Let A be the following matrix:\n",
        "\n",
        "A = [\n",
        "    [ 5, -2, -4],\n",
        "    [-2,  2,  2],\n",
        "    [-4,  2,  5]\n",
        "]\n",
        "\n",
        "Find the eigenvalues and the corresponding eigenvectors of A."
      ],
      "metadata": {
        "id": "HNPGpDSPFZY8"
      }
    },
    {
      "cell_type": "code",
      "source": [
        "\n",
        "# Define the matrix A\n",
        "A = np.array([[5, -2, -4],\n",
        "              [-2, 2, 2],\n",
        "              [-4, 2, 5]])\n",
        "\n",
        "# Compute eigenvalues and eigenvectors\n",
        "eigenvalues, eigenvectors = np.linalg.eig(A)\n",
        "\n",
        "print(\"\\nEigenvalues:\")\n",
        "for i, eigenvalue in enumerate(eigenvalues, 1):\n",
        "    print(f\"λ{i} = {eigenvalue:.4f}\")\n",
        "\n",
        "print(\"\\nEigenvectors:\")\n",
        "for i, eigenvector in enumerate(eigenvectors.T, 1):\n",
        "    print(f\"v{i} = {eigenvector}\")\n",
        "\n",
        "# Verify that Av = λv for each eigenpair\n",
        "print(\"\\nVerifying Av = λv:\")\n",
        "for i, (eigenvalue, eigenvector) in enumerate(zip(eigenvalues, eigenvectors.T), 1):\n",
        "    Av = A @ eigenvector\n",
        "    lambda_v = eigenvalue * eigenvector\n",
        "    print(f\"\\nFor eigenpair {i}:\")\n",
        "    print(f\"Av{i} = {Av}\")\n",
        "    print(f\"λ{i}v{i} = {lambda_v}\")\n",
        "    print(f\"Are they equal? {np.allclose(Av, lambda_v)}\")\n",
        "\n",
        "# Verify orthogonality of eigenvectors\n",
        "print(\"\\nVerifying orthogonality of eigenvectors:\")\n",
        "for i in range(3):\n",
        "    for j in range(i+1, 3):\n",
        "        dot_product = np.dot(eigenvectors[:, i], eigenvectors[:, j])\n",
        "        print(f\"v{i+1} · v{j+1} = {dot_product:.4e}\")\n",
        "\n",
        "# Reconstruct A using eigendecomposition\n",
        "print(\"\\nReconstructing A using eigendecomposition:\")\n",
        "A_reconstructed = eigenvectors @ np.diag(eigenvalues) @ np.linalg.inv(eigenvectors)\n",
        "print(\"Reconstructed A:\")\n",
        "print(A_reconstructed)\n",
        "print(f\"Is it equal to the original A? {np.allclose(A, A_reconstructed)}\")\n"
      ],
      "metadata": {
        "colab": {
          "base_uri": "https://localhost:8080/"
        },
        "id": "JwCDVYjvFZCh",
        "outputId": "78aba319-46fb-4ec8-cc37-64bd7bfd28f1"
      },
      "execution_count": 23,
      "outputs": [
        {
          "output_type": "stream",
          "name": "stdout",
          "text": [
            "\n",
            "Eigenvalues:\n",
            "λ1 = 10.0000+0.0000j\n",
            "λ2 = 1.0000+0.0000j\n",
            "λ3 = 1.0000-0.0000j\n",
            "\n",
            "Eigenvectors:\n",
            "v1 = [-0.66666667+0.j  0.33333333+0.j  0.66666667+0.j]\n",
            "v2 = [-0.07408817+0.1093227j -0.90882435+0.j         0.380324  +0.1093227j]\n",
            "v3 = [-0.07408817-0.1093227j -0.90882435-0.j         0.380324  -0.1093227j]\n",
            "\n",
            "Verifying Av = λv:\n",
            "\n",
            "For eigenpair 1:\n",
            "Av1 = [-6.66666667+0.j  3.33333333+0.j  6.66666667+0.j]\n",
            "λ1v1 = [-6.66666667+0.j  3.33333333+0.j  6.66666667+0.j]\n",
            "Are they equal? True\n",
            "\n",
            "For eigenpair 2:\n",
            "Av2 = [-0.07408817+1.09322698e-01j -0.90882435+8.32667268e-17j\n",
            "  0.380324  +1.09322698e-01j]\n",
            "λ2v2 = [-0.07408817+1.09322698e-01j -0.90882435-1.65411012e-16j\n",
            "  0.380324  +1.09322698e-01j]\n",
            "Are they equal? True\n",
            "\n",
            "For eigenpair 3:\n",
            "Av3 = [-0.07408817-1.09322698e-01j -0.90882435-8.32667268e-17j\n",
            "  0.380324  -1.09322698e-01j]\n",
            "λ3v3 = [-0.07408817-1.09322698e-01j -0.90882435+1.65411012e-16j\n",
            "  0.380324  -1.09322698e-01j]\n",
            "Are they equal? True\n",
            "\n",
            "Verifying orthogonality of eigenvectors:\n",
            "v1 · v2 = 2.2204e-16+0.0000e+00j\n",
            "v1 · v3 = 2.2204e-16+0.0000e+00j\n",
            "v2 · v3 = 1.0000e+00+0.0000e+00j\n",
            "\n",
            "Reconstructing A using eigendecomposition:\n",
            "Reconstructed A:\n",
            "[[ 5.+4.44447925e-18j -2.-6.71999669e-19j -4.+4.93921553e-18j]\n",
            " [-2.-1.12081795e-16j  2.+3.85077347e-17j  2.-1.49265544e-17j]\n",
            " [-4.-5.55375462e-17j  2.-1.46409409e-17j  5.-3.16697837e-17j]]\n",
            "Is it equal to the original A? True\n"
          ]
        }
      ]
    },
    {
      "cell_type": "markdown",
      "source": [
        "\n",
        "\n",
        "*   Write down the spectral decomposition of A.\n",
        "\n",
        "\n",
        "\n"
      ],
      "metadata": {
        "id": "NSOuugItIEry"
      }
    },
    {
      "cell_type": "code",
      "source": [
        "\n",
        "# Define the matrix A\n",
        "A = np.array([[5, -2, -4],\n",
        "              [-2, 2, 2],\n",
        "              [-4, 2, 5]])\n",
        "\n",
        "# Step 1: Compute eigenvalues and eigenvectors\n",
        "eigenvalues, eigenvectors = np.linalg.eig(A)\n",
        "\n",
        "# Step 2: Form the diagonal matrix of eigenvalues\n",
        "Lambda = np.diag(eigenvalues)\n",
        "\n",
        "# Step 3: Compute the inverse of the eigenvector matrix\n",
        "V_inv = np.linalg.inv(eigenvectors)\n",
        "\n",
        "# Step 4: Verify the spectral decomposition: A = V * Lambda * V_inv\n",
        "A_reconstructed = np.dot(eigenvectors, np.dot(Lambda, V_inv))\n",
        "\n",
        "# Print the results\n",
        "print(\"Original Matrix A:\")\n",
        "print(A)\n",
        "\n",
        "print(\"\\nEigenvalues (Diagonal Matrix Lambda):\")\n",
        "print(Lambda)\n",
        "\n",
        "print(\"\\nEigenvectors (Matrix V):\")\n",
        "print(eigenvectors)\n",
        "\n",
        "print(\"\\nInverse of Eigenvector Matrix (V_inv):\")\n",
        "print(V_inv)\n",
        "\n",
        "print(\"\\nReconstructed Matrix A from Spectral Decomposition:\")\n",
        "print(A_reconstructed)\n"
      ],
      "metadata": {
        "colab": {
          "base_uri": "https://localhost:8080/"
        },
        "id": "Vkt5ar4HIK9W",
        "outputId": "789004c2-3685-411a-be71-654c2a55b92f"
      },
      "execution_count": 24,
      "outputs": [
        {
          "output_type": "stream",
          "name": "stdout",
          "text": [
            "Original Matrix A:\n",
            "[[ 5 -2 -4]\n",
            " [-2  2  2]\n",
            " [-4  2  5]]\n",
            "\n",
            "Eigenvalues (Diagonal Matrix Lambda):\n",
            "[[10.+0.00000000e+00j  0.+0.00000000e+00j  0.+0.00000000e+00j]\n",
            " [ 0.+0.00000000e+00j  1.+1.82005481e-16j  0.+0.00000000e+00j]\n",
            " [ 0.+0.00000000e+00j  0.+0.00000000e+00j  1.-1.82005481e-16j]]\n",
            "\n",
            "Eigenvectors (Matrix V):\n",
            "[[-0.66666667+0.j        -0.07408817+0.1093227j -0.07408817-0.1093227j]\n",
            " [ 0.33333333+0.j        -0.90882435+0.j        -0.90882435-0.j       ]\n",
            " [ 0.66666667+0.j         0.380324  +0.1093227j  0.380324  -0.1093227j]]\n",
            "\n",
            "Inverse of Eigenvector Matrix (V_inv):\n",
            "[[-0.66666667-0.j          0.33333333+0.j          0.66666667+0.j        ]\n",
            " [-0.12225807-2.45804309j -0.48903228-0.68494106j  0.12225807-2.11557255j]\n",
            " [-0.12225807+2.45804309j -0.48903228+0.68494106j  0.12225807+2.11557255j]]\n",
            "\n",
            "Reconstructed Matrix A from Spectral Decomposition:\n",
            "[[ 5.+9.75534922e-18j -2.+1.63438033e-18j -4.+9.09689550e-18j]\n",
            " [-2.+1.86196876e-17j  2.-3.75359993e-17j  2.-6.82478099e-17j]\n",
            " [-4.+2.34287721e-17j  2.+1.96616581e-17j  5.+2.84105117e-17j]]\n"
          ]
        }
      ]
    },
    {
      "cell_type": "markdown",
      "source": [
        "\n",
        "\n",
        "\n",
        "*  Find the inverse of A by making use of the spectral decomposition.\n",
        "\n"
      ],
      "metadata": {
        "id": "ENINp31-I10t"
      }
    },
    {
      "cell_type": "code",
      "source": [
        "# print(\"Matrix A:\")\n",
        "# print(A)\n",
        "\n",
        "\n",
        "# Spectral decomposition: A = VΛV^(-1)\n",
        "# where V is the matrix of eigenvectors and Λ is the diagonal matrix of eigenvalues\n",
        "\n",
        "# To find A^(-1), we use: A^(-1) = VΛ^(-1)V^(-1)\n",
        "# where Λ^(-1) is a diagonal matrix with 1/λ_i on the diagonal\n",
        "\n",
        "# Compute Λ^(-1)\n",
        "lambda_inv = np.diag(1 / eigenvalues)\n",
        "\n",
        "# Compute A^(-1)\n",
        "A_inv = eigenvectors @ lambda_inv @ np.linalg.inv(eigenvectors)\n",
        "\n",
        "print(\"\\nInverse of A using spectral decomposition:\")\n",
        "print(A_inv)\n",
        "\n",
        "# Verify the result\n",
        "print(\"\\nVerification:\")\n",
        "print(\"A * A^(-1):\")\n",
        "print(A @ A_inv)\n",
        "\n",
        "print(\"\\nA^(-1) * A:\")\n",
        "print(A_inv @ A)\n",
        "\n",
        "# Compare with NumPy's built-in inverse function\n",
        "A_inv_numpy = np.linalg.inv(A)\n",
        "print(\"\\nInverse of A using NumPy's inv function:\")\n",
        "print(A_inv_numpy)\n",
        "\n",
        "print(f\"\\nAre the results equal? {np.allclose(A_inv, A_inv_numpy)}\")\n",
        "\n",
        "# Verify that A * A^(-1) = I\n",
        "I = np.eye(3)\n",
        "print(f\"\\nIs A * A^(-1) equal to the identity matrix? {np.allclose(A @ A_inv, I)}\")\n",
        "print(f\"Is A^(-1) * A equal to the identity matrix? {np.allclose(A_inv @ A, I)}\")\n"
      ],
      "metadata": {
        "colab": {
          "base_uri": "https://localhost:8080/"
        },
        "id": "ZUOAiJEwI1T6",
        "outputId": "068e8ff7-9bd1-4b9b-d547-322a235fa96e"
      },
      "execution_count": 25,
      "outputs": [
        {
          "output_type": "stream",
          "name": "stdout",
          "text": [
            "\n",
            "Inverse of A using spectral decomposition:\n",
            "[[ 0.6+4.25421969e-18j  0.2-1.43303792e-18j  0.4+3.39475161e-18j]\n",
            " [ 0.2-4.25961841e-17j  0.9+3.24211377e-17j -0.2-5.34199477e-17j]\n",
            " [ 0.4+2.10083143e-17j -0.2-1.74710827e-17j  0.6-1.09547270e-17j]]\n",
            "\n",
            "Verification:\n",
            "A * A^(-1):\n",
            "[[ 1.00000000e+00+2.24302094e-17j  1.11022302e-16-2.12313393e-18j\n",
            "  -4.44089210e-16+1.67632561e-16j]\n",
            " [ 1.11022302e-15-5.16841789e-17j  1.00000000e+00+3.27661857e-17j\n",
            "   1.11022302e-15-1.35538852e-16j]\n",
            " [ 4.99600361e-16+2.83232463e-18j -2.77555756e-17-1.67809867e-17j\n",
            "   1.00000000e+00-1.75192537e-16j]]\n",
            "\n",
            "A^(-1) * A:\n",
            "[[ 1.00000000e+00+1.05581678e-17j  7.77156117e-16-4.58501198e-18j\n",
            "   1.38777878e-15-2.90919652e-18j]\n",
            " [-2.22044605e-16-6.41434052e-17j  1.00000000e+00+4.31947482e-17j\n",
            "   1.88737914e-15-3.18727266e-17j]\n",
            " [-8.88178420e-16+1.83802645e-16j  2.22044605e-16-9.88682481e-17j\n",
            "   1.00000000e+00-1.73749058e-16j]]\n",
            "\n",
            "Inverse of A using NumPy's inv function:\n",
            "[[ 0.6  0.2  0.4]\n",
            " [ 0.2  0.9 -0.2]\n",
            " [ 0.4 -0.2  0.6]]\n",
            "\n",
            "Are the results equal? True\n",
            "\n",
            "Is A * A^(-1) equal to the identity matrix? True\n",
            "Is A^(-1) * A equal to the identity matrix? True\n"
          ]
        }
      ]
    },
    {
      "cell_type": "markdown",
      "source": [
        "## 1.16 Singular Value Decomposition (SVD)\n",
        "\n",
        "Find the SVD of matrix A:\n",
        "\n",
        "A = [\n",
        "    [1, 0, i],\n",
        "    [i, 0, 1]\n",
        "]\n",
        "\n",
        "Where i is the imaginary unit.\n",
        "\n",
        "Note: The SVD of a matrix A is given by A = UΣV*, where:\n",
        "- U is a unitary matrix\n",
        "- Σ (Sigma) is a rectangular diagonal matrix with non-negative real numbers on the diagonal\n",
        "- V* is the conjugate transpose of V, which is also a unitary matrix"
      ],
      "metadata": {
        "id": "mCRVtJZqqCrB"
      }
    },
    {
      "cell_type": "code",
      "source": [
        "\n",
        "# Define the matrix A\n",
        "A = np.array([\n",
        "    [1, 0, 1j],\n",
        "    [1j, 0, 1]\n",
        "], dtype=complex)\n",
        "\n",
        "print(\"Matrix A:\")\n",
        "print(A)\n",
        "\n",
        "# Compute the SVD\n",
        "U, s, Vh = np.linalg.svd(A)\n",
        "\n",
        "print(\"\\nSingular Value Decomposition:\")\n",
        "print(\"U (left singular vectors):\")\n",
        "print(U)\n",
        "\n",
        "print(\"\\nΣ (singular values):\")\n",
        "print(s)\n",
        "\n",
        "print(\"\\nV* (conjugate transpose of right singular vectors):\")\n",
        "print(Vh)\n",
        "\n",
        "# Construct the full Σ matrix\n",
        "m, n = A.shape\n",
        "Sigma = np.zeros((m, n))\n",
        "Sigma[:m, :m] = np.diag(s)\n",
        "\n",
        "print(\"\\nFull Σ matrix:\")\n",
        "print(Sigma)\n",
        "\n",
        "# Verify the decomposition\n",
        "A_reconstructed = U @ Sigma @ Vh\n",
        "print(\"\\nReconstructed A:\")\n",
        "print(A_reconstructed)\n",
        "print(f\"Is the reconstruction accurate? {np.allclose(A, A_reconstructed)}\")\n",
        "\n",
        "# Verify properties of U and V\n",
        "print(\"\\nVerifying properties:\")\n",
        "print(f\"Is U unitary? {np.allclose(U @ U.conj().T, np.eye(m))}\")\n",
        "print(f\"Is V unitary? {np.allclose(Vh.conj().T @ Vh, np.eye(n))}\")\n",
        "\n",
        "# Compute and print the condition number\n",
        "condition_number = np.linalg.cond(A)\n",
        "print(f\"\\nCondition number of A: {condition_number}\")"
      ],
      "metadata": {
        "colab": {
          "base_uri": "https://localhost:8080/"
        },
        "id": "ZSKYBe4nrW_J",
        "outputId": "f54c8aa6-b987-4a16-dd57-fb2fd327212c"
      },
      "execution_count": 26,
      "outputs": [
        {
          "output_type": "stream",
          "name": "stdout",
          "text": [
            "Matrix A:\n",
            "[[1.+0.j 0.+0.j 0.+1.j]\n",
            " [0.+1.j 0.+0.j 1.+0.j]]\n",
            "\n",
            "Singular Value Decomposition:\n",
            "U (left singular vectors):\n",
            "[[-1.00000000e+00+0.00000000e+00j  2.35513869e-16+0.00000000e+00j]\n",
            " [ 0.00000000e+00+2.35513869e-16j  0.00000000e+00+1.00000000e+00j]]\n",
            "\n",
            "Σ (singular values):\n",
            "[1.41421356 1.41421356]\n",
            "\n",
            "V* (conjugate transpose of right singular vectors):\n",
            "[[-0.70710678+0.j          0.        +0.j          0.        -0.70710678j]\n",
            " [ 0.70710678+0.j          0.        +0.j          0.        -0.70710678j]\n",
            " [ 0.        +0.j         -1.        +0.j          0.        +0.j        ]]\n",
            "\n",
            "Full Σ matrix:\n",
            "[[1.41421356 0.         0.        ]\n",
            " [0.         1.41421356 0.        ]]\n",
            "\n",
            "Reconstructed A:\n",
            "[[1.+0.j 0.+0.j 0.+1.j]\n",
            " [0.+1.j 0.+0.j 1.+0.j]]\n",
            "Is the reconstruction accurate? True\n",
            "\n",
            "Verifying properties:\n",
            "Is U unitary? True\n",
            "Is V unitary? True\n",
            "\n",
            "Condition number of A: 1.0000000000000004\n"
          ]
        }
      ]
    }
  ]
}