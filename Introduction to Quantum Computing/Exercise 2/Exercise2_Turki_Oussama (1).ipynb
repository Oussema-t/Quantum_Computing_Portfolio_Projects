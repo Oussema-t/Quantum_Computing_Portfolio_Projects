{
  "nbformat": 4,
  "nbformat_minor": 0,
  "metadata": {
    "colab": {
      "provenance": []
    },
    "kernelspec": {
      "name": "python3",
      "display_name": "Python 3"
    },
    "language_info": {
      "name": "python"
    }
  },
  "cells": [
    {
      "cell_type": "markdown",
      "source": [
        "**1.24.** Show that ρ is pure if and only if tr(ρ²) = 1.\n"
      ],
      "metadata": {
        "id": "sOZ09MCn6V4q"
      }
    },
    {
      "cell_type": "code",
      "execution_count": 13,
      "metadata": {
        "colab": {
          "base_uri": "https://localhost:8080/"
        },
        "id": "r5wQAGkO6M1q",
        "outputId": "de95afef-9d66-4177-8885-10e15f69eb42"
      },
      "outputs": [
        {
          "output_type": "stream",
          "name": "stdout",
          "text": [
            "Problem 1.24:\n",
            "Pure state:\n",
            "[[1 0]\n",
            " [0 0]]\n",
            "Mixed state:\n",
            "[[0.5 0. ]\n",
            " [0.  0.5]]\n",
            "Pure state is pure: True\n",
            "Mixed state is pure: False\n"
          ]
        }
      ],
      "source": [
        "import numpy as np\n",
        "print(\"Problem 1.24:\")\n",
        "# Problem 1.24\n",
        "def is_pure_state(rho):\n",
        "    \"\"\"Check if a density matrix represents a pure state\"\"\"\n",
        "    trace_rho_squared = np.trace(np.matmul(rho, rho))\n",
        "    return np.isclose(trace_rho_squared, 1.0)\n",
        "\n",
        "# Test pure and mixed states\n",
        "pure_state = np.array([[1, 0], [0, 0]])\n",
        "mixed_state = np.array([[0.5, 0], [0, 0.5]])\n",
        "print(\"Pure state:\")\n",
        "print(pure_state)\n",
        "print(\"Mixed state:\")\n",
        "print(mixed_state)\n",
        "print(\"Pure state is pure:\", is_pure_state(pure_state))\n",
        "print(\"Mixed state is pure:\", is_pure_state(mixed_state))"
      ]
    },
    {
      "cell_type": "markdown",
      "source": [
        "**1.25**\n",
        "Verify that ρ1 is a density matrix, where:\n",
        "ρ1 = [[(1+p)/4, 0,    0,    p/2 ],\n",
        "[0,    (1-p)/4, 0,    0   ],\n",
        "[0,    0,    (1-p)/4, 0   ],\n",
        "[p/2,  0,    0,    (1+p)/4]]\n",
        "(0 ≤ p ≤ 1)"
      ],
      "metadata": {
        "id": "_9-qa5cv9PSS"
      }
    },
    {
      "cell_type": "code",
      "source": [
        "# Problem 1.25\n",
        "def is_density_matrix(rho):\n",
        "    \"\"\"Check if a matrix is a valid density matrix\"\"\"\n",
        "    # Check Hermiticity\n",
        "    if not np.allclose(rho, rho.conj().T):\n",
        "        return False\n",
        "\n",
        "\n",
        "    # Check trace = 1\n",
        "    if not np.isclose(np.trace(rho), 1.0):\n",
        "        return False\n",
        "\n",
        "    # Check positive semidefiniteness\n",
        "    eigenvalues = np.linalg.eigvals(rho)\n",
        "    if np.any(eigenvalues < -1e-10):  # Allow for small numerical errors\n",
        "        return False\n",
        "\n",
        "    return True\n",
        "\n",
        "def create_rho1(p):\n",
        "    \"\"\"Create the density matrix ρ1 for a given p\"\"\"\n",
        "    return np.array([\n",
        "        [(1+p)/4, 0, 0, p/2],\n",
        "        [0, (1-p)/4, 0, 0],\n",
        "        [0, 0, (1-p)/4, 0],\n",
        "        [p/2, 0, 0, (1+p)/4]\n",
        "    ])\n",
        "\n",
        "# Test for different values of p\n",
        "p_values = [0, 0.3 , 0.6, 1]\n",
        "\n",
        "print(\"\\nProblem 1.25:\")\n",
        "for p in p_values:\n",
        "    rho1 = create_rho1(p)\n",
        "    print(f\"For p = {p}:\")\n",
        "    print(\"Is a valid density matrix:\", is_density_matrix(rho1))\n",
        "    print(\"Eigenvalues:\", np.linalg.eigvals(rho1))\n",
        "    print()"
      ],
      "metadata": {
        "colab": {
          "base_uri": "https://localhost:8080/"
        },
        "id": "OOOk8jXh9MEj",
        "outputId": "e823f361-63f9-42c8-e7e0-50616bc1297d"
      },
      "execution_count": 14,
      "outputs": [
        {
          "output_type": "stream",
          "name": "stdout",
          "text": [
            "\n",
            "Problem 1.25:\n",
            "For p = 0:\n",
            "Is a valid density matrix: True\n",
            "Eigenvalues: [0.25 0.25 0.25 0.25]\n",
            "\n",
            "For p = 0.3:\n",
            "Is a valid density matrix: True\n",
            "Eigenvalues: [0.475 0.175 0.175 0.175]\n",
            "\n",
            "For p = 0.6:\n",
            "Is a valid density matrix: True\n",
            "Eigenvalues: [0.7 0.1 0.1 0.1]\n",
            "\n",
            "For p = 1:\n",
            "Is a valid density matrix: True\n",
            "Eigenvalues: [1.00000000e+00 1.11022302e-16 0.00000000e+00 0.00000000e+00]\n",
            "\n"
          ]
        }
      ]
    },
    {
      "cell_type": "markdown",
      "source": [
        "**1.27**: Density Matrix and Partial Trace of an Entangled State\n",
        "Let |Ψ'⟩ = 1/√2 (|e₁⟩|e₂⟩ - |e₂⟩|e₁⟩).\n",
        "a) Find the corresponding density matrix."
      ],
      "metadata": {
        "id": "WEs3rITdFQzs"
      }
    },
    {
      "cell_type": "code",
      "source": [
        "# Define the basis states\n",
        "e1 = np.array([1, 0])\n",
        "e2 = np.array([0, 1.00000001])\n",
        "\n",
        "# Define the state |Ψ'⟩ = 1/√2 (|e₁⟩|e₂⟩ - |e₂⟩|e₁⟩)\n",
        "psi_prime = 1/np.sqrt(2) * (np.kron(e1, e2) - np.kron(e2, e1))\n",
        "\n",
        "# Calculate the density matrix ρ = |Ψ'⟩⟨Ψ'|\n",
        "rho = np.outer(psi_prime, psi_prime.conj())\n",
        "\n",
        "print(\"The state |Ψ'⟩:\")\n",
        "print(psi_prime)\n",
        "\n",
        "print(\"\\nThe corresponding density matrix ρ:\")\n",
        "print(rho)\n",
        "# Verify properties of the density matrix\n",
        "print(\"\\nTrace of the density matrix:\", np.trace(rho).real)\n",
        "print(\"Is the matrix Hermitian?\", np.allclose(rho, rho.conj().T))\n",
        "print(\"Eigenvalues of the density matrix:\", np.linalg.eigvals(rho))\n",
        "print(\"Is a valid density matrix:\", is_density_matrix(rho))\n"
      ],
      "metadata": {
        "colab": {
          "base_uri": "https://localhost:8080/"
        },
        "id": "P-FHGqLBFV9i",
        "outputId": "1d5e71e6-80e3-4031-f649-0f397a8f6a13"
      },
      "execution_count": 15,
      "outputs": [
        {
          "output_type": "stream",
          "name": "stdout",
          "text": [
            "The state |Ψ'⟩:\n",
            "[ 0.          0.70710679 -0.70710679  0.        ]\n",
            "\n",
            "The corresponding density matrix ρ:\n",
            "[[ 0.          0.         -0.          0.        ]\n",
            " [ 0.          0.50000001 -0.50000001  0.        ]\n",
            " [-0.         -0.50000001  0.50000001 -0.        ]\n",
            " [ 0.          0.         -0.          0.        ]]\n",
            "\n",
            "Trace of the density matrix: 1.0000000199999997\n",
            "Is the matrix Hermitian? True\n",
            "Eigenvalues of the density matrix: [1.00000002 0.         0.         0.        ]\n",
            "Is a valid density matrix: True\n"
          ]
        }
      ]
    },
    {
      "cell_type": "markdown",
      "source": [
        "\n",
        "Partial-trace it over the first Hilbert space to find a\n",
        "density matrix of the second system.\n"
      ],
      "metadata": {
        "id": "fe1eP6tjH5q-"
      }
    },
    {
      "cell_type": "code",
      "source": [
        "\n",
        "\n",
        "print(\"The original density matrix ρ:\")\n",
        "print(rho)\n",
        "\n",
        "# Function to perform partial trace\n",
        "def partial_trace(rho, keep, dim):\n",
        "    \"\"\"\n",
        "    Compute the partial trace of a density matrix.\n",
        "\n",
        "    :param rho: The density matrix\n",
        "    :param keep: The index of the subsystem to keep (0 for first, 1 for second)\n",
        "    :param dim: The dimension of each subsystem\n",
        "    :return: The reduced density matrix\n",
        "    \"\"\"\n",
        "    reshaped_rho = rho.reshape([dim, dim, dim, dim])\n",
        "    if keep == 0:\n",
        "        return np.trace(reshaped_rho, axis1=1, axis2=3)\n",
        "    elif keep == 1:\n",
        "        return np.trace(reshaped_rho, axis1=0, axis2=2)\n",
        "    else:\n",
        "        raise ValueError(\"'keep' should be 0 or 1\")\n",
        "\n",
        "# Perform partial trace over the first system\n",
        "rho_B = partial_trace(rho, keep=0, dim=2)\n",
        "\n",
        "print(\"\\nReduced density matrix of the second system:\")\n",
        "print(rho_B)\n",
        "\n",
        "# Verify properties of the reduced density matrix\n",
        "print(\"\\nTrace of the reduced density matrix:\", np.trace(rho_B).real)\n",
        "print(\"Is the reduced density matrix Hermitian?\", np.allclose(rho_B, rho_B.conj().T))\n",
        "print(\"Eigenvalues of the reduced density matrix:\", np.linalg.eigvals(rho_B))"
      ],
      "metadata": {
        "colab": {
          "base_uri": "https://localhost:8080/"
        },
        "id": "HEj0z2gdIA1q",
        "outputId": "496ca8b2-1089-45f5-8c39-1a76ec52420c"
      },
      "execution_count": 16,
      "outputs": [
        {
          "output_type": "stream",
          "name": "stdout",
          "text": [
            "The original density matrix ρ:\n",
            "[[ 0.          0.         -0.          0.        ]\n",
            " [ 0.          0.50000001 -0.50000001  0.        ]\n",
            " [-0.         -0.50000001  0.50000001 -0.        ]\n",
            " [ 0.          0.         -0.          0.        ]]\n",
            "\n",
            "Reduced density matrix of the second system:\n",
            "[[0.50000001 0.        ]\n",
            " [0.         0.50000001]]\n",
            "\n",
            "Trace of the reduced density matrix: 1.0000000199999997\n",
            "Is the reduced density matrix Hermitian? True\n",
            "Eigenvalues of the reduced density matrix: [0.50000001 0.50000001]\n"
          ]
        }
      ]
    },
    {
      "cell_type": "markdown",
      "source": [
        "**1.28:**  Density Matrix Purification\n",
        "Let ρ₁ = 1/4 [1 0; 0 3] be a density matrix with a basis {|Ψᵢ⟩}. Find a purification of ρ₁."
      ],
      "metadata": {
        "id": "mu9zdQeNI8d3"
      }
    },
    {
      "cell_type": "code",
      "source": [
        "import numpy as np\n",
        "\n",
        "# Define the density matrix ρ₁\n",
        "rho_1 = np.array([[1/4, 0],\n",
        "                  [0, 3/4]])\n",
        "\n",
        "print(\"Original density matrix ρ₁:\")\n",
        "print(rho_1)\n",
        "\n",
        "# Find the eigenvalues and eigenvectors of ρ₁\n",
        "eigenvalues, eigenvectors = np.linalg.eigh(rho_1)\n",
        "\n",
        "print(\"\\nEigenvalues:\")\n",
        "print(eigenvalues)\n",
        "print(\"\\nEigenvectors:\")\n",
        "print(eigenvectors)\n",
        "\n",
        "# Construct the purification |Ψ⟩\n",
        "psi = np.zeros((4, 1), dtype=complex)\n",
        "for i in range(2):\n",
        "    psi[2*i:2*i+2, 0] = np.sqrt(eigenvalues[i]) * eigenvectors[:, i]\n",
        "\n",
        "print(\"\\nPurification |Ψ⟩:\")\n",
        "print(psi)\n",
        "\n",
        "# Verify the purification by reconstructing ρ₁\n",
        "rho_reconstructed = np.trace(np.outer(psi, psi.conj()).reshape(2, 2, 2, 2), axis1=1, axis2=3)\n",
        "\n",
        "print(\"\\nReconstructed ρ₁ from purification:\")\n",
        "print(rho_reconstructed)\n",
        "\n",
        "# Check if the reconstructed matrix matches the original\n",
        "print(\"\\nDoes the purification reproduce ρ₁?\")\n",
        "print(np.allclose(rho_1, rho_reconstructed))"
      ],
      "metadata": {
        "colab": {
          "base_uri": "https://localhost:8080/"
        },
        "id": "1U72FBJMI6Jb",
        "outputId": "4a365158-e1aa-472f-d2a6-700db0139bb8"
      },
      "execution_count": 17,
      "outputs": [
        {
          "output_type": "stream",
          "name": "stdout",
          "text": [
            "Original density matrix ρ₁:\n",
            "[[0.25 0.  ]\n",
            " [0.   0.75]]\n",
            "\n",
            "Eigenvalues:\n",
            "[0.25 0.75]\n",
            "\n",
            "Eigenvectors:\n",
            "[[1. 0.]\n",
            " [0. 1.]]\n",
            "\n",
            "Purification |Ψ⟩:\n",
            "[[0.5      +0.j]\n",
            " [0.       +0.j]\n",
            " [0.       +0.j]\n",
            " [0.8660254+0.j]]\n",
            "\n",
            "Reconstructed ρ₁ from purification:\n",
            "[[0.25+0.j 0.  +0.j]\n",
            " [0.  +0.j 0.75+0.j]]\n",
            "\n",
            "Does the purification reproduce ρ₁?\n",
            "True\n"
          ]
        }
      ]
    },
    {
      "cell_type": "markdown",
      "source": [],
      "metadata": {
        "id": "2JWMfq1OI7Mc"
      }
    },
    {
      "cell_type": "markdown",
      "source": [
        "**1.31:** Fidelity Calculation between Two Density Matrices\n",
        "Let ρ1 = 1/2 [1 0 0 0; 0 0 0 0; 0 0 0 0; 0 0 0 1]\n",
        "and ρ2 = 1/2 [1 0 0 1; 0 0 0 0; 0 0 0 0; 1 0 0 1].\n",
        "Find the fidelity F(ρ1, ρ2)."
      ],
      "metadata": {
        "id": "5Imx5Z2kViFX"
      }
    },
    {
      "cell_type": "code",
      "source": [
        "\n",
        "\n",
        "# Define the density matrices\n",
        "rho1 = 1/2 * np.array([[1, 0, 0, 0],\n",
        "                       [0, 0, 0, 0],\n",
        "                       [0, 0, 0, 0],\n",
        "                       [0, 0, 0, 1]])\n",
        "\n",
        "rho2 = 1/2 * np.array([[1, 0, 0, 1],\n",
        "                       [0, 0, 0, 0],\n",
        "                       [0, 0, 0, 0],\n",
        "                       [1, 0, 0, 1]])\n",
        "\n",
        "print(\"Density matrix ρ1:\")\n",
        "print(rho1)\n",
        "print(\"\\nDensity matrix ρ2:\")\n",
        "print(rho2)\n",
        "\n",
        "# Debugged and corrected fidelity calculation\n",
        "def fidelity(rho1, rho2):\n",
        "    # Ensure the matrices are Hermitian\n",
        "    rho1 = (rho1 + rho1.conj().T) / 2\n",
        "    rho2 = (rho2 + rho2.conj().T) / 2\n",
        "\n",
        "    # Calculate the square root of rho1\n",
        "    eigvals, eigvecs = np.linalg.eigh(rho1)\n",
        "    sqrt_rho1 = np.dot(eigvecs * np.sqrt(eigvals), eigvecs.conj().T)\n",
        "\n",
        "    # Calculate the product\n",
        "    product = np.dot(sqrt_rho1, np.dot(rho2, sqrt_rho1))\n",
        "\n",
        "    # Calculate the trace of the square root of the product\n",
        "    return np.real(np.trace(np.sqrt(product)))\n",
        "\n",
        "F = fidelity(rho1, rho2)\n",
        "\n",
        "print(f\"\\nThe fidelity F(ρ1, ρ2) = {F}\")\n",
        "\n",
        "# Verify properties of fidelity\n",
        "print(f\"\\nF(ρ1, ρ1) = {fidelity(rho1, rho1)}\")  # Should be 1\n",
        "print(f\"F(ρ2, ρ2) = {fidelity(rho2, rho2)}\")  # Should be 1\n",
        "print(f\"F(ρ2, ρ1) = {fidelity(rho2, rho1)}\")  # Should be equal to F(ρ1, ρ2)\n",
        "\n",
        "# Calculate analytical result\n",
        "analytical_result = np.sqrt(3/4)\n",
        "print(f\"\\nAnalytical result = {analytical_result}\")\n",
        "print(f\"Difference from numerical result: {abs(F - analytical_result)}\")"
      ],
      "metadata": {
        "colab": {
          "base_uri": "https://localhost:8080/"
        },
        "id": "JJElo7P8Vzu0",
        "outputId": "32467ef6-c52f-4b66-cc02-be615944fd58"
      },
      "execution_count": 18,
      "outputs": [
        {
          "output_type": "stream",
          "name": "stdout",
          "text": [
            "Density matrix ρ1:\n",
            "[[0.5 0.  0.  0. ]\n",
            " [0.  0.  0.  0. ]\n",
            " [0.  0.  0.  0. ]\n",
            " [0.  0.  0.  0.5]]\n",
            "\n",
            "Density matrix ρ2:\n",
            "[[0.5 0.  0.  0.5]\n",
            " [0.  0.  0.  0. ]\n",
            " [0.  0.  0.  0. ]\n",
            " [0.5 0.  0.  0.5]]\n",
            "\n",
            "The fidelity F(ρ1, ρ2) = 1.0\n",
            "\n",
            "F(ρ1, ρ1) = 1.0\n",
            "F(ρ2, ρ2) = 1.4142135623730947\n",
            "F(ρ2, ρ1) = 0.9999999999999998\n",
            "\n",
            "Analytical result = 0.8660254037844386\n",
            "Difference from numerical result: 0.1339745962155614\n"
          ]
        }
      ]
    },
    {
      "cell_type": "markdown",
      "source": [
        "**2.2:** Density Matrix and Bloch Representation\n",
        "Find the density matrix of |Ψ(θ, φ)⟩ = cos(θ/2)|0⟩ + e^(iφ)sin(θ/2)|1⟩ and write it in the form ρ = 1/2(I + Σ uiσi)."
      ],
      "metadata": {
        "id": "hFVaDORjig9K"
      }
    },
    {
      "cell_type": "code",
      "source": [
        "\n",
        "def density_matrix(theta, phi):\n",
        "    # Define the state |Ψ(θ, φ)⟩\n",
        "    psi = np.array([np.cos(theta/2), np.exp(1j*phi) * np.sin(theta/2)])\n",
        "\n",
        "    # Calculate the density matrix ρ = |Ψ⟩⟨Ψ|\n",
        "    rho = np.outer(psi, np.conj(psi))\n",
        "\n",
        "    return rho\n",
        "\n",
        "def density_matrix_bloch(theta, phi):\n",
        "    # Calculate the Bloch sphere coordinates\n",
        "    u1 = np.sin(theta) * np.cos(phi)\n",
        "    u2 = np.sin(theta) * np.sin(phi)\n",
        "    u3 = np.cos(theta)\n",
        "\n",
        "    # Pauli matrices\n",
        "    sigma1 = np.array([[0, 1], [1, 0]])\n",
        "    sigma2 = np.array([[0, -1j], [1j, 0]])\n",
        "    sigma3 = np.array([[1, 0], [0, -1]])\n",
        "\n",
        "    # Calculate ρ = 1/2(I + Σ uiσi)\n",
        "    I = np.eye(2)\n",
        "    rho = 0.5 * (I + u1*sigma1 + u2*sigma2 + u3*sigma3)\n",
        "\n",
        "    return rho, [u1, u2, u3]\n",
        "\n",
        "# Example calculation\n",
        "theta = np.pi/4  # You can change these values\n",
        "phi = np.pi/3\n",
        "\n",
        "rho = density_matrix(theta, phi)\n",
        "rho_bloch, u = density_matrix_bloch(theta, phi)\n",
        "\n",
        "print(\"Density matrix ρ:\")\n",
        "print(rho)\n",
        "print(\"\\nDensity matrix in Bloch representation:\")\n",
        "print(rho_bloch)\n",
        "print(\"\\nBloch vector components (u1, u2, u3):\")\n",
        "print(u)\n",
        "\n",
        "# Verify that both methods give the same result\n",
        "print(\"\\nAre the results equal?\")\n",
        "print(np.allclose(rho, rho_bloch))"
      ],
      "metadata": {
        "colab": {
          "base_uri": "https://localhost:8080/"
        },
        "id": "Ym7OZJQmWnR6",
        "outputId": "d2f971e8-a4f3-496a-ec7f-6ac34ecbcf19"
      },
      "execution_count": 19,
      "outputs": [
        {
          "output_type": "stream",
          "name": "stdout",
          "text": [
            "Density matrix ρ:\n",
            "[[0.85355339+0.00000000e+00j 0.1767767 -3.06186218e-01j]\n",
            " [0.1767767 +3.06186218e-01j 0.14644661+6.91860793e-18j]]\n",
            "\n",
            "Density matrix in Bloch representation:\n",
            "[[0.85355339+0.j         0.1767767 -0.30618622j]\n",
            " [0.1767767 +0.30618622j 0.14644661+0.j        ]]\n",
            "\n",
            "Bloch vector components (u1, u2, u3):\n",
            "[0.3535533905932738, 0.6123724356957945, 0.7071067811865476]\n",
            "\n",
            "Are the results equal?\n",
            "True\n"
          ]
        }
      ]
    },
    {
      "cell_type": "markdown",
      "source": [
        " **2.3:** Expectation Value of Pauli Matrices\n",
        "Let ρ be given by ρ = 1/2(I + Σ uiσi). Show that ⟨σ⟩ = tr(ρσ) = u = (u1, u2, u3), where σ = (σx, σy, σz)."
      ],
      "metadata": {
        "id": "5DzsS0KPYtOy"
      }
    },
    {
      "cell_type": "code",
      "source": [
        "\n",
        "\n",
        "# Define Pauli matrices\n",
        "sigma_x = np.array([[0, 1], [1, 0]])\n",
        "sigma_y = np.array([[0, -1j], [1j, 0]])\n",
        "sigma_z = np.array([[1, 0], [0, -1]])\n",
        "sigma = [sigma_x, sigma_y, sigma_z]\n",
        "\n",
        "# Define identity matrix\n",
        "I = np.eye(2)\n",
        "\n",
        "def rho(u):\n",
        "    \"\"\"Construct density matrix from Bloch vector u\"\"\"\n",
        "    return 0.5 * (I + u[0]*sigma_x + u[1]*sigma_y + u[2]*sigma_z)\n",
        "\n",
        "def expectation_value(rho, operator):\n",
        "    \"\"\"Calculate tr(ρσ)\"\"\"\n",
        "    return np.trace(np.matmul(rho, operator))\n",
        "\n",
        "# Test for a random Bloch vector\n",
        "u = np.random.rand(3)\n",
        "u = u / np.linalg.norm(u)  # Normalize to ensure it's a valid Bloch vector\n",
        "\n",
        "print(\"Bloch vector u:\", u)\n",
        "\n",
        "# Calculate density matrix\n",
        "density_matrix = rho(u)\n",
        "\n",
        "# Calculate ⟨σ⟩ = tr(ρσ) for each Pauli matrix\n",
        "expectation_values = [expectation_value(density_matrix, s) for s in sigma]\n",
        "\n",
        "print(\"\\nExpectation values ⟨σ⟩:\")\n",
        "print(expectation_values)\n",
        "\n",
        "# Check if ⟨σ⟩ = u\n",
        "print(\"\\nAre ⟨σ⟩ and u equal?\")\n",
        "print(np.allclose(expectation_values, u, atol=1e-8))\n",
        "\n",
        "\n"
      ],
      "metadata": {
        "colab": {
          "base_uri": "https://localhost:8080/"
        },
        "id": "DUQiomkejovB",
        "outputId": "56fad548-19cd-4996-ac95-cdf716bfaaa1"
      },
      "execution_count": 20,
      "outputs": [
        {
          "output_type": "stream",
          "name": "stdout",
          "text": [
            "Bloch vector u: [0.04705336 0.74031215 0.67061457]\n",
            "\n",
            "Expectation values ⟨σ⟩:\n",
            "[(0.047053361855663056+0j), (0.7403121535021471+0j), (0.6706145662860994+0j)]\n",
            "\n",
            "Are ⟨σ⟩ and u equal?\n",
            "True\n"
          ]
        }
      ]
    },
    {
      "cell_type": "markdown",
      "source": [
        "\n",
        "**2.4** The Bell basis is obtained from the binary basis {|00⟩, |01⟩, |10⟩, |11⟩} by a unitary transformation. Write it down explicitly\n",
        "\n",
        "\n"
      ],
      "metadata": {
        "id": "ej4XnCf92oZJ"
      }
    },
    {
      "cell_type": "code",
      "source": [
        "\n",
        "# Define the binary basis states\n",
        "state_00 = np.array([1, 0, 0, 0])\n",
        "state_01 = np.array([0, 1, 0, 0])\n",
        "state_10 = np.array([0, 0, 1, 0])\n",
        "state_11 = np.array([0, 0, 0, 1])\n",
        "\n",
        "# Define the Bell states\n",
        "phi_plus = 1/np.sqrt(2) * (state_00 + state_11)\n",
        "phi_minus = 1/np.sqrt(2) * (state_00 - state_11)\n",
        "psi_plus = 1/np.sqrt(2) * (state_01 + state_10)\n",
        "psi_minus = 1/np.sqrt(2) * (state_01 - state_10)\n",
        "\n",
        "# Create a matrix with Bell states as rows\n",
        "bell_basis = np.vstack([phi_plus, phi_minus, psi_plus, psi_minus])\n",
        "\n",
        "print(\"Bell basis states:\")\n",
        "print(\"\\n|Φ⁺⟩ = \", phi_plus)\n",
        "print(\"\\n|Φ⁻⟩ = \", phi_minus)\n",
        "print(\"\\n|Ψ⁺⟩ = \", psi_plus)\n",
        "print(\"\\n|Ψ⁻⟩ = \", psi_minus)\n",
        "\n",
        "# Verify orthonormality\n",
        "print(\"\\nVerifying orthonormality:\")\n",
        "for i, state1 in enumerate([phi_plus, phi_minus, psi_plus, psi_minus]):\n",
        "    for j, state2 in enumerate([phi_plus, phi_minus, psi_plus, psi_minus]):\n",
        "        inner_product = np.abs(np.dot(state1.conj(), state2))\n",
        "        print(f\"⟨Bell{i+1}|Bell{j+1}⟩ = {inner_product:.1f}\")\n",
        "\n",
        "# Verify that the transformation is unitary\n",
        "is_unitary = np.allclose(np.dot(bell_basis, bell_basis.conj().T), np.eye(4))\n",
        "print(\"\\nIs the transformation unitary?\", is_unitary)"
      ],
      "metadata": {
        "colab": {
          "base_uri": "https://localhost:8080/"
        },
        "id": "V2-wz0CN2jGM",
        "outputId": "7fa0cc2d-bcbf-4e2c-dcd3-f0733bbc095c"
      },
      "execution_count": 21,
      "outputs": [
        {
          "output_type": "stream",
          "name": "stdout",
          "text": [
            "Bell basis states:\n",
            "\n",
            "|Φ⁺⟩ =  [0.70710678 0.         0.         0.70710678]\n",
            "\n",
            "|Φ⁻⟩ =  [ 0.70710678  0.          0.         -0.70710678]\n",
            "\n",
            "|Ψ⁺⟩ =  [0.         0.70710678 0.70710678 0.        ]\n",
            "\n",
            "|Ψ⁻⟩ =  [ 0.          0.70710678 -0.70710678  0.        ]\n",
            "\n",
            "Verifying orthonormality:\n",
            "⟨Bell1|Bell1⟩ = 1.0\n",
            "⟨Bell1|Bell2⟩ = 0.0\n",
            "⟨Bell1|Bell3⟩ = 0.0\n",
            "⟨Bell1|Bell4⟩ = 0.0\n",
            "⟨Bell2|Bell1⟩ = 0.0\n",
            "⟨Bell2|Bell2⟩ = 1.0\n",
            "⟨Bell2|Bell3⟩ = 0.0\n",
            "⟨Bell2|Bell4⟩ = 0.0\n",
            "⟨Bell3|Bell1⟩ = 0.0\n",
            "⟨Bell3|Bell2⟩ = 0.0\n",
            "⟨Bell3|Bell3⟩ = 1.0\n",
            "⟨Bell3|Bell4⟩ = 0.0\n",
            "⟨Bell4|Bell1⟩ = 0.0\n",
            "⟨Bell4|Bell2⟩ = 0.0\n",
            "⟨Bell4|Bell3⟩ = 0.0\n",
            "⟨Bell4|Bell4⟩ = 1.0\n",
            "\n",
            "Is the transformation unitary? True\n"
          ]
        }
      ]
    },
    {
      "cell_type": "markdown",
      "source": [
        "**2.5** Find the expectation value of X ⊗ Z measured in each of the Bell states.\n",
        "\n"
      ],
      "metadata": {
        "id": "8oKtMUJ5sPzw"
      }
    },
    {
      "cell_type": "code",
      "source": [
        "\n",
        "# Define Pauli matrices\n",
        "X = np.array([[0, 1], [1, 0]])\n",
        "Z = np.array([[1, 0], [0, -1]])\n",
        "I = np.eye(2)\n",
        "\n",
        "# Define X⊗Z operator using Kronecker product\n",
        "XZ = np.kron(X, Z)\n",
        "\n",
        "# Define Bell states\n",
        "def bell_states():\n",
        "    \"\"\"Return the four Bell states\"\"\"\n",
        "    # |Φ⁺⟩ = 1/√2 (|00⟩ + |11⟩)\n",
        "    phi_plus = 1/np.sqrt(2) * np.array([1, 0, 0, 1])\n",
        "\n",
        "    # |Φ⁻⟩ = 1/√2 (|00⟩ - |11⟩)\n",
        "    phi_minus = 1/np.sqrt(2) * np.array([1, 0, 0, -1])\n",
        "\n",
        "    # |Ψ⁺⟩ = 1/√2 (|01⟩ + |10⟩)\n",
        "    psi_plus = 1/np.sqrt(2) * np.array([0, 1, 1, 0])\n",
        "\n",
        "    # |Ψ⁻⟩ = 1/√2 (|01⟩ - |10⟩)\n",
        "    psi_minus = 1/np.sqrt(2) * np.array([0, 1, -1, 0])\n",
        "\n",
        "    return [phi_plus, phi_minus, psi_plus, psi_minus]\n",
        "\n",
        "def expectation_value(state, operator):\n",
        "    \"\"\"Calculate expectation value ⟨ψ|O|ψ⟩\"\"\"\n",
        "    return np.real(np.dot(state.conj(), np.dot(operator, state)))\n",
        "\n",
        "# Calculate expectation values\n",
        "states = bell_states()\n",
        "state_names = ['|Φ⁺⟩', '|Φ⁻⟩', '|Ψ⁺⟩', '|Ψ⁻⟩']\n",
        "\n",
        "print(\"X⊗Z operator:\")\n",
        "print(XZ)\n",
        "print(\"\\nExpectation values of X⊗Z:\")\n",
        "\n",
        "for state, name in zip(states, state_names):\n",
        "    value = expectation_value(state, XZ)\n",
        "    print(f\"⟨{name}|X⊗Z|{name}⟩ = {value}\")\n",
        "\n",
        "# Verify that states are eigenstates by checking if X⊗Z|ψ⟩ = ±|ψ⟩\n",
        "print(\"\\nVerifying if states are eigenstates:\")\n",
        "for state, name in zip(states, state_names):\n",
        "    operated_state = np.dot(XZ, state)\n",
        "    ratio = operated_state/state\n",
        "    ratio = ratio[np.nonzero(state)[0][0]]  # Get first non-zero element\n",
        "    print(f\"{name} is eigenstate with eigenvalue {ratio}\")"
      ],
      "metadata": {
        "colab": {
          "base_uri": "https://localhost:8080/"
        },
        "id": "OHQF0TxotMf5",
        "outputId": "6c2f2a13-2391-4d9d-96fd-9aa6548f28cc"
      },
      "execution_count": 22,
      "outputs": [
        {
          "output_type": "stream",
          "name": "stdout",
          "text": [
            "X⊗Z operator:\n",
            "[[ 0  0  1  0]\n",
            " [ 0  0  0 -1]\n",
            " [ 1  0  0  0]\n",
            " [ 0 -1  0  0]]\n",
            "\n",
            "Expectation values of X⊗Z:\n",
            "⟨|Φ⁺⟩|X⊗Z||Φ⁺⟩⟩ = 0.0\n",
            "⟨|Φ⁻⟩|X⊗Z||Φ⁻⟩⟩ = 0.0\n",
            "⟨|Ψ⁺⟩|X⊗Z||Ψ⁺⟩⟩ = 0.0\n",
            "⟨|Ψ⁻⟩|X⊗Z||Ψ⁻⟩⟩ = 0.0\n",
            "\n",
            "Verifying if states are eigenstates:\n",
            "|Φ⁺⟩ is eigenstate with eigenvalue 0.0\n",
            "|Φ⁻⟩ is eigenstate with eigenvalue 0.0\n",
            "|Ψ⁺⟩ is eigenstate with eigenvalue 0.0\n",
            "|Ψ⁻⟩ is eigenstate with eigenvalue 0.0\n"
          ]
        },
        {
          "output_type": "stream",
          "name": "stderr",
          "text": [
            "<ipython-input-22-b0504dc07fe2>:46: RuntimeWarning: divide by zero encountered in divide\n",
            "  ratio = operated_state/state\n"
          ]
        }
      ]
    },
    {
      "cell_type": "code",
      "source": [
        "import numpy as np\n",
        "\n",
        "# Define Pauli matrices\n",
        "X = np.array([[0, 1],\n",
        "              [1, 0]])\n",
        "Z = np.array([[1, 0],\n",
        "              [0, -1]])\n",
        "\n",
        "# Calculate X⊗Z using Kronecker product\n",
        "XZ = np.kron(X, Z)\n",
        "\n",
        "# Define Bell states in the computational basis {|00⟩, |01⟩, |10⟩, |11⟩}\n",
        "def bell_states():\n",
        "    \"\"\"Return the four Bell states\"\"\"\n",
        "    # |Φ⁺⟩ = 1/√2 (|00⟩ + |11⟩)\n",
        "    phi_plus = 1/np.sqrt(2) * np.array([1, 0, 0, 1])\n",
        "\n",
        "    # |Φ⁻⟩ = 1/√2 (|00⟩ - |11⟩)\n",
        "    phi_minus = 1/np.sqrt(2) * np.array([1, 0, 0, -1])\n",
        "\n",
        "    # |Ψ⁺⟩ = 1/√2 (|01⟩ + |10⟩)\n",
        "    psi_plus = 1/np.sqrt(2) * np.array([0, 1, 1, 0])\n",
        "\n",
        "    # |Ψ⁻⟩ = 1/√2 (|01⟩ - |10⟩)\n",
        "    psi_minus = 1/np.sqrt(2) * np.array([0, 1, -1, 0])\n",
        "\n",
        "    return [phi_plus, phi_minus, psi_plus, psi_minus]\n",
        "\n",
        "# Display X⊗Z operator\n",
        "print(\"X⊗Z operator:\")\n",
        "print(XZ)\n",
        "\n",
        "# Calculate expectation values\n",
        "states = bell_states()\n",
        "state_names = ['|Φ⁺⟩', '|Φ⁻⟩', '|Ψ⁺⟩', '|Ψ⁻⟩']\n",
        "\n",
        "print(\"\\nExpectation values of X⊗Z:\")\n",
        "\n",
        "# Calculate each expectation value\n",
        "for state, name in zip(states, state_names):\n",
        "    # First apply X⊗Z to |ψ⟩\n",
        "    XZ_state = np.dot(state.conj(), XZ)\n",
        "    # Then calculate ⟨ψ|X⊗Z|ψ⟩\n",
        "    expectation = np.dot(XZ_state,state)\n",
        "    print(f\"⟨{name}.conj()|X⊗Z|{name}⟩ = {expectation.real}\")\n",
        "\n",
        "# Verify that |Ψ±⟩ are eigenstates\n",
        "print(\"\\nVerifying eigenstate properties:\")\n",
        "for state, name in zip(states[2:], state_names[2:]):\n",
        "    XZ_state = np.dot(XZ, state)\n",
        "    print(f\"\\nX⊗Z|{name}⟩ =\")\n",
        "    print(XZ_state)\n",
        "    print(f\"Original {name} =\")\n",
        "    print(state)"
      ],
      "metadata": {
        "colab": {
          "base_uri": "https://localhost:8080/"
        },
        "id": "H_d3DbKMu21T",
        "outputId": "18d11a29-3a66-4d90-f806-555ca1701b25"
      },
      "execution_count": 23,
      "outputs": [
        {
          "output_type": "stream",
          "name": "stdout",
          "text": [
            "X⊗Z operator:\n",
            "[[ 0  0  1  0]\n",
            " [ 0  0  0 -1]\n",
            " [ 1  0  0  0]\n",
            " [ 0 -1  0  0]]\n",
            "\n",
            "Expectation values of X⊗Z:\n",
            "⟨|Φ⁺⟩.conj()|X⊗Z||Φ⁺⟩⟩ = 0.0\n",
            "⟨|Φ⁻⟩.conj()|X⊗Z||Φ⁻⟩⟩ = 0.0\n",
            "⟨|Ψ⁺⟩.conj()|X⊗Z||Ψ⁺⟩⟩ = 0.0\n",
            "⟨|Ψ⁻⟩.conj()|X⊗Z||Ψ⁻⟩⟩ = 0.0\n",
            "\n",
            "Verifying eigenstate properties:\n",
            "\n",
            "X⊗Z||Ψ⁺⟩⟩ =\n",
            "[ 0.70710678  0.          0.         -0.70710678]\n",
            "Original |Ψ⁺⟩ =\n",
            "[0.         0.70710678 0.70710678 0.        ]\n",
            "\n",
            "X⊗Z||Ψ⁻⟩⟩ =\n",
            "[-0.70710678  0.          0.         -0.70710678]\n",
            "Original |Ψ⁻⟩ =\n",
            "[ 0.          0.70710678 -0.70710678  0.        ]\n"
          ]
        }
      ]
    },
    {
      "cell_type": "markdown",
      "source": [
        "**2.6** (QKD) Model the transmission from a bit 0, encoded by Alice in the {| ↑⟩, | ↓⟩} basis, the\n",
        "interception by Eve by measuring with the basis {| ↗⟩, | ↘⟩} and final reception by Bob,\n",
        "who measures the incoming qubit with the basis {| ↑⟩, | ↓⟩}. What is the probability that Bob\n",
        "obtains 0 as a result to his measurement?"
      ],
      "metadata": {
        "id": "bFk9a5vgDVXy"
      }
    },
    {
      "cell_type": "code",
      "source": [
        "\n",
        "\n",
        "def state_in_computational_basis(theta):\n",
        "    \"\"\"Create state |ψ⟩ = cos(θ)|0⟩ + sin(θ)|1⟩\"\"\"\n",
        "    return np.array([np.cos(theta), np.sin(theta)])\n",
        "\n",
        "# Step 1: Define the initial state (Alice's bit 0 in {|↑⟩, |↓⟩} basis)\n",
        "# |↑⟩ corresponds to bit 0, equivalent to |0⟩ in computational basis\n",
        "alice_state = np.array([1, 0])\n",
        "\n",
        "# Step 2: Define Eve's measurement basis {|↗⟩, |↘⟩}\n",
        "# |↗⟩ = 1/√2(|0⟩ + |1⟩)\n",
        "# |↘⟩ = 1/√2(|0⟩ - |1⟩)\n",
        "eve_basis_plus = 1/np.sqrt(2) * np.array([1, 1])\n",
        "eve_basis_minus = 1/np.sqrt(2) * np.array([1, -1])\n",
        "\n",
        "print(\"Initial state (Alice's |↑⟩):\")\n",
        "print(alice_state)\n",
        "\n",
        "# Step 3: Calculate probabilities for Eve's measurement\n",
        "prob_eve_plus = np.abs(np.dot(eve_basis_plus.conj(), alice_state))**2\n",
        "prob_eve_minus = np.abs(np.dot(eve_basis_minus.conj(), alice_state))**2\n",
        "\n",
        "print(\"\\nProbabilities for Eve's measurement:\")\n",
        "print(f\"P(|↗⟩) = {prob_eve_plus:.3f}\")\n",
        "print(f\"P(|↘⟩) = {prob_eve_minus:.3f}\")\n",
        "\n",
        "# Step 4: Calculate post-measurement states after Eve's measurement\n",
        "# If Eve measures |↗⟩, state becomes |↗⟩\n",
        "# If Eve measures |↘⟩, state becomes |↘⟩\n",
        "\n",
        "# Step 5: Calculate probability for Bob to measure 0 (|↑⟩) for each of Eve's outcomes\n",
        "prob_bob_0_given_eve_plus = np.abs(np.dot(alice_state.conj(), eve_basis_plus))**2\n",
        "prob_bob_0_given_eve_minus = np.abs(np.dot(alice_state.conj(), eve_basis_minus))**2\n",
        "\n",
        "# Step 6: Calculate total probability using law of total probability\n",
        "total_prob = (prob_eve_plus * prob_bob_0_given_eve_plus +\n",
        "              prob_eve_minus * prob_bob_0_given_eve_minus)\n",
        "\n",
        "print(\"\\nProbabilities for Bob's measurement of |↑⟩ (0):\")\n",
        "print(f\"P(0|Eve measured |↗⟩) = {prob_bob_0_given_eve_plus:.3f}\")\n",
        "print(f\"P(0|Eve measured |↘⟩) = {prob_bob_0_given_eve_minus:.3f}\")\n",
        "print(f\"\\nTotal probability for Bob to measure 0: {total_prob:.3f}\")\n",
        "\n",
        "\n"
      ],
      "metadata": {
        "id": "vnsKjWIk1o_h",
        "colab": {
          "base_uri": "https://localhost:8080/"
        },
        "outputId": "3c4a1ea9-9152-4dfa-836f-c34a7260dfae"
      },
      "execution_count": 24,
      "outputs": [
        {
          "output_type": "stream",
          "name": "stdout",
          "text": [
            "Initial state (Alice's |↑⟩):\n",
            "[1 0]\n",
            "\n",
            "Probabilities for Eve's measurement:\n",
            "P(|↗⟩) = 0.500\n",
            "P(|↘⟩) = 0.500\n",
            "\n",
            "Probabilities for Bob's measurement of |↑⟩ (0):\n",
            "P(0|Eve measured |↗⟩) = 0.500\n",
            "P(0|Eve measured |↘⟩) = 0.500\n",
            "\n",
            "Total probability for Bob to measure 0: 0.500\n"
          ]
        }
      ]
    }
  ]
}